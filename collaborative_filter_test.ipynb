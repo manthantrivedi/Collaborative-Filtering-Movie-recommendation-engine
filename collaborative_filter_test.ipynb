{
  "nbformat": 4,
  "nbformat_minor": 0,
  "metadata": {
    "colab": {
      "name": "collaborative_filter_test.ipynb",
      "provenance": [],
      "collapsed_sections": [],
      "mount_file_id": "1MEAlxdkUO4zRrOmOfzwK9l-xw0ZLQ3lI",
      "authorship_tag": "ABX9TyNs5thkXH0XeO7WHSZ7m5ko",
      "include_colab_link": true
    },
    "kernelspec": {
      "name": "python3",
      "display_name": "Python 3"
    }
  },
  "cells": [
    {
      "cell_type": "markdown",
      "metadata": {
        "id": "view-in-github",
        "colab_type": "text"
      },
      "source": [
        "<a href=\"https://colab.research.google.com/github/manthantrivedi/Collaborative-Filtering-Movie-recommendation-engine/blob/main/collaborative_filter_test.ipynb\" target=\"_parent\"><img src=\"https://colab.research.google.com/assets/colab-badge.svg\" alt=\"Open In Colab\"/></a>"
      ]
    },
    {
      "cell_type": "code",
      "metadata": {
        "id": "ydDd8RSvhLXc"
      },
      "source": [
        "import pandas as pd\n",
        "from scipy import sparse\n",
        "from sklearn.metrics.pairwise import cosine_similarity"
      ],
      "execution_count": null,
      "outputs": []
    },
    {
      "cell_type": "code",
      "metadata": {
        "colab": {
          "base_uri": "https://localhost:8080/",
          "height": 204
        },
        "id": "bKW6SDLJh3rD",
        "outputId": "c0a0f3e9-c2ab-4134-bfb6-6a967e6d546b"
      },
      "source": [
        "ratings = pd.read_csv(\"/content/drive/MyDrive/ML PROJECTS/Collaborative Filtering Movie Recommendation Engine/datasets/toy_dataset.csv\", index_col=0)\n",
        "ratings.fillna(0, inplace = True)\n",
        "ratings"
      ],
      "execution_count": null,
      "outputs": [
        {
          "output_type": "execute_result",
          "data": {
            "text/html": [
              "<div>\n",
              "<style scoped>\n",
              "    .dataframe tbody tr th:only-of-type {\n",
              "        vertical-align: middle;\n",
              "    }\n",
              "\n",
              "    .dataframe tbody tr th {\n",
              "        vertical-align: top;\n",
              "    }\n",
              "\n",
              "    .dataframe thead th {\n",
              "        text-align: right;\n",
              "    }\n",
              "</style>\n",
              "<table border=\"1\" class=\"dataframe\">\n",
              "  <thead>\n",
              "    <tr style=\"text-align: right;\">\n",
              "      <th></th>\n",
              "      <th>action1</th>\n",
              "      <th>action2</th>\n",
              "      <th>action3</th>\n",
              "      <th>romantic1</th>\n",
              "      <th>romantic2</th>\n",
              "      <th>romantic3</th>\n",
              "    </tr>\n",
              "  </thead>\n",
              "  <tbody>\n",
              "    <tr>\n",
              "      <th>user 1</th>\n",
              "      <td>4.0</td>\n",
              "      <td>5.0</td>\n",
              "      <td>3.0</td>\n",
              "      <td>0.0</td>\n",
              "      <td>2.0</td>\n",
              "      <td>1.0</td>\n",
              "    </tr>\n",
              "    <tr>\n",
              "      <th>user 2</th>\n",
              "      <td>5.0</td>\n",
              "      <td>3.0</td>\n",
              "      <td>3.0</td>\n",
              "      <td>2.0</td>\n",
              "      <td>2.0</td>\n",
              "      <td>0.0</td>\n",
              "    </tr>\n",
              "    <tr>\n",
              "      <th>user 3</th>\n",
              "      <td>1.0</td>\n",
              "      <td>0.0</td>\n",
              "      <td>0.0</td>\n",
              "      <td>4.0</td>\n",
              "      <td>5.0</td>\n",
              "      <td>4.0</td>\n",
              "    </tr>\n",
              "    <tr>\n",
              "      <th>user 4</th>\n",
              "      <td>0.0</td>\n",
              "      <td>2.0</td>\n",
              "      <td>1.0</td>\n",
              "      <td>4.0</td>\n",
              "      <td>0.0</td>\n",
              "      <td>3.0</td>\n",
              "    </tr>\n",
              "    <tr>\n",
              "      <th>user 5</th>\n",
              "      <td>1.0</td>\n",
              "      <td>0.0</td>\n",
              "      <td>2.0</td>\n",
              "      <td>3.0</td>\n",
              "      <td>3.0</td>\n",
              "      <td>4.0</td>\n",
              "    </tr>\n",
              "  </tbody>\n",
              "</table>\n",
              "</div>"
            ],
            "text/plain": [
              "        action1  action2  action3  romantic1  romantic2  romantic3\n",
              "user 1      4.0      5.0      3.0        0.0        2.0        1.0\n",
              "user 2      5.0      3.0      3.0        2.0        2.0        0.0\n",
              "user 3      1.0      0.0      0.0        4.0        5.0        4.0\n",
              "user 4      0.0      2.0      1.0        4.0        0.0        3.0\n",
              "user 5      1.0      0.0      2.0        3.0        3.0        4.0"
            ]
          },
          "metadata": {
            "tags": []
          },
          "execution_count": 15
        }
      ]
    },
    {
      "cell_type": "code",
      "metadata": {
        "colab": {
          "base_uri": "https://localhost:8080/",
          "height": 354
        },
        "id": "UQUsaSYJiM-M",
        "outputId": "cf1c80bb-cfdd-427c-bd68-de6cbce8cb4b"
      },
      "source": [
        "def standardize(row):\n",
        "  new_row = (row - row.mean())/(row.max()-row.min())\n",
        "  return new_row\n",
        "\n",
        "df_std = ratings.apply(standardize).T\n",
        "print(df_std)\n",
        "\n",
        "sparse_df = sparse.csr_matrix(df_std.values)\n",
        "corrMatrix = pd.DataFrame(cosine_similarity(sparse_df), index = ratings.columns, columns = ratings.columns)\n",
        "corrMatrix"
      ],
      "execution_count": null,
      "outputs": [
        {
          "output_type": "stream",
          "text": [
            "           user 1  user 2  user 3    user 4    user 5\n",
            "action1      0.36    0.56   -0.24 -0.440000 -0.240000\n",
            "action2      0.60    0.20   -0.40  0.000000 -0.400000\n",
            "action3      0.40    0.40   -0.60 -0.266667  0.066667\n",
            "romantic1   -0.65   -0.15    0.35  0.350000  0.100000\n",
            "romantic2   -0.08   -0.08    0.52 -0.480000  0.120000\n",
            "romantic3   -0.35   -0.60    0.40  0.150000  0.400000\n"
          ],
          "name": "stdout"
        },
        {
          "output_type": "execute_result",
          "data": {
            "text/html": [
              "<div>\n",
              "<style scoped>\n",
              "    .dataframe tbody tr th:only-of-type {\n",
              "        vertical-align: middle;\n",
              "    }\n",
              "\n",
              "    .dataframe tbody tr th {\n",
              "        vertical-align: top;\n",
              "    }\n",
              "\n",
              "    .dataframe thead th {\n",
              "        text-align: right;\n",
              "    }\n",
              "</style>\n",
              "<table border=\"1\" class=\"dataframe\">\n",
              "  <thead>\n",
              "    <tr style=\"text-align: right;\">\n",
              "      <th></th>\n",
              "      <th>action1</th>\n",
              "      <th>action2</th>\n",
              "      <th>action3</th>\n",
              "      <th>romantic1</th>\n",
              "      <th>romantic2</th>\n",
              "      <th>romantic3</th>\n",
              "    </tr>\n",
              "  </thead>\n",
              "  <tbody>\n",
              "    <tr>\n",
              "      <th>action1</th>\n",
              "      <td>1.000000</td>\n",
              "      <td>0.706689</td>\n",
              "      <td>0.813682</td>\n",
              "      <td>-0.799411</td>\n",
              "      <td>-0.025392</td>\n",
              "      <td>-0.914106</td>\n",
              "    </tr>\n",
              "    <tr>\n",
              "      <th>action2</th>\n",
              "      <td>0.706689</td>\n",
              "      <td>1.000000</td>\n",
              "      <td>0.723102</td>\n",
              "      <td>-0.845154</td>\n",
              "      <td>-0.518999</td>\n",
              "      <td>-0.843374</td>\n",
              "    </tr>\n",
              "    <tr>\n",
              "      <th>action3</th>\n",
              "      <td>0.813682</td>\n",
              "      <td>0.723102</td>\n",
              "      <td>1.000000</td>\n",
              "      <td>-0.847946</td>\n",
              "      <td>-0.379980</td>\n",
              "      <td>-0.802181</td>\n",
              "    </tr>\n",
              "    <tr>\n",
              "      <th>romantic1</th>\n",
              "      <td>-0.799411</td>\n",
              "      <td>-0.845154</td>\n",
              "      <td>-0.847946</td>\n",
              "      <td>1.000000</td>\n",
              "      <td>0.148039</td>\n",
              "      <td>0.723747</td>\n",
              "    </tr>\n",
              "    <tr>\n",
              "      <th>romantic2</th>\n",
              "      <td>-0.025392</td>\n",
              "      <td>-0.518999</td>\n",
              "      <td>-0.379980</td>\n",
              "      <td>0.148039</td>\n",
              "      <td>1.000000</td>\n",
              "      <td>0.393939</td>\n",
              "    </tr>\n",
              "    <tr>\n",
              "      <th>romantic3</th>\n",
              "      <td>-0.914106</td>\n",
              "      <td>-0.843374</td>\n",
              "      <td>-0.802181</td>\n",
              "      <td>0.723747</td>\n",
              "      <td>0.393939</td>\n",
              "      <td>1.000000</td>\n",
              "    </tr>\n",
              "  </tbody>\n",
              "</table>\n",
              "</div>"
            ],
            "text/plain": [
              "            action1   action2   action3  romantic1  romantic2  romantic3\n",
              "action1    1.000000  0.706689  0.813682  -0.799411  -0.025392  -0.914106\n",
              "action2    0.706689  1.000000  0.723102  -0.845154  -0.518999  -0.843374\n",
              "action3    0.813682  0.723102  1.000000  -0.847946  -0.379980  -0.802181\n",
              "romantic1 -0.799411 -0.845154 -0.847946   1.000000   0.148039   0.723747\n",
              "romantic2 -0.025392 -0.518999 -0.379980   0.148039   1.000000   0.393939\n",
              "romantic3 -0.914106 -0.843374 -0.802181   0.723747   0.393939   1.000000"
            ]
          },
          "metadata": {
            "tags": []
          },
          "execution_count": 17
        }
      ]
    },
    {
      "cell_type": "code",
      "metadata": {
        "colab": {
          "base_uri": "https://localhost:8080/",
          "height": 235
        },
        "id": "rv58nxdN07vd",
        "outputId": "54d1adba-06d6-427f-cbda-3bdcd8949c4d"
      },
      "source": [
        "corrMatrix = ratings.corr(method='pearson')\n",
        "corrMatrix.head(6)"
      ],
      "execution_count": null,
      "outputs": [
        {
          "output_type": "execute_result",
          "data": {
            "text/html": [
              "<div>\n",
              "<style scoped>\n",
              "    .dataframe tbody tr th:only-of-type {\n",
              "        vertical-align: middle;\n",
              "    }\n",
              "\n",
              "    .dataframe tbody tr th {\n",
              "        vertical-align: top;\n",
              "    }\n",
              "\n",
              "    .dataframe thead th {\n",
              "        text-align: right;\n",
              "    }\n",
              "</style>\n",
              "<table border=\"1\" class=\"dataframe\">\n",
              "  <thead>\n",
              "    <tr style=\"text-align: right;\">\n",
              "      <th></th>\n",
              "      <th>action1</th>\n",
              "      <th>action2</th>\n",
              "      <th>action3</th>\n",
              "      <th>romantic1</th>\n",
              "      <th>romantic2</th>\n",
              "      <th>romantic3</th>\n",
              "    </tr>\n",
              "  </thead>\n",
              "  <tbody>\n",
              "    <tr>\n",
              "      <th>action1</th>\n",
              "      <td>1.000000</td>\n",
              "      <td>0.706689</td>\n",
              "      <td>0.813682</td>\n",
              "      <td>-0.799411</td>\n",
              "      <td>-0.025392</td>\n",
              "      <td>-0.914106</td>\n",
              "    </tr>\n",
              "    <tr>\n",
              "      <th>action2</th>\n",
              "      <td>0.706689</td>\n",
              "      <td>1.000000</td>\n",
              "      <td>0.723102</td>\n",
              "      <td>-0.845154</td>\n",
              "      <td>-0.518999</td>\n",
              "      <td>-0.843374</td>\n",
              "    </tr>\n",
              "    <tr>\n",
              "      <th>action3</th>\n",
              "      <td>0.813682</td>\n",
              "      <td>0.723102</td>\n",
              "      <td>1.000000</td>\n",
              "      <td>-0.847946</td>\n",
              "      <td>-0.379980</td>\n",
              "      <td>-0.802181</td>\n",
              "    </tr>\n",
              "    <tr>\n",
              "      <th>romantic1</th>\n",
              "      <td>-0.799411</td>\n",
              "      <td>-0.845154</td>\n",
              "      <td>-0.847946</td>\n",
              "      <td>1.000000</td>\n",
              "      <td>0.148039</td>\n",
              "      <td>0.723747</td>\n",
              "    </tr>\n",
              "    <tr>\n",
              "      <th>romantic2</th>\n",
              "      <td>-0.025392</td>\n",
              "      <td>-0.518999</td>\n",
              "      <td>-0.379980</td>\n",
              "      <td>0.148039</td>\n",
              "      <td>1.000000</td>\n",
              "      <td>0.393939</td>\n",
              "    </tr>\n",
              "    <tr>\n",
              "      <th>romantic3</th>\n",
              "      <td>-0.914106</td>\n",
              "      <td>-0.843374</td>\n",
              "      <td>-0.802181</td>\n",
              "      <td>0.723747</td>\n",
              "      <td>0.393939</td>\n",
              "      <td>1.000000</td>\n",
              "    </tr>\n",
              "  </tbody>\n",
              "</table>\n",
              "</div>"
            ],
            "text/plain": [
              "            action1   action2   action3  romantic1  romantic2  romantic3\n",
              "action1    1.000000  0.706689  0.813682  -0.799411  -0.025392  -0.914106\n",
              "action2    0.706689  1.000000  0.723102  -0.845154  -0.518999  -0.843374\n",
              "action3    0.813682  0.723102  1.000000  -0.847946  -0.379980  -0.802181\n",
              "romantic1 -0.799411 -0.845154 -0.847946   1.000000   0.148039   0.723747\n",
              "romantic2 -0.025392 -0.518999 -0.379980   0.148039   1.000000   0.393939\n",
              "romantic3 -0.914106 -0.843374 -0.802181   0.723747   0.393939   1.000000"
            ]
          },
          "metadata": {
            "tags": []
          },
          "execution_count": 18
        }
      ]
    },
    {
      "cell_type": "code",
      "metadata": {
        "id": "IydQ_r0-75Rk"
      },
      "source": [
        "def get_similar(movie_name, rating):\n",
        "  similar_score = corrMatrix[movie_name]*(rating-2.5)\n",
        "  similar_score = similar_score.sort_values(ascending=False)\n",
        "  return similar_score"
      ],
      "execution_count": null,
      "outputs": []
    },
    {
      "cell_type": "code",
      "metadata": {
        "colab": {
          "base_uri": "https://localhost:8080/",
          "height": 142
        },
        "id": "x1yjpozO8UdK",
        "outputId": "0225e469-454f-473b-d5bd-be7deae4ccc0"
      },
      "source": [
        "action_lover = [('action1',5), ('romantic2', 1), ('romantic3', 1)]\n",
        "similar_scores = pd.DataFrame()\n",
        "for movie, rating in action_lover:\n",
        "  similar_scores = similar_scores.append(get_similar(movie, rating), ignore_index=True)\n",
        "\n",
        "similar_scores.head(10)"
      ],
      "execution_count": null,
      "outputs": [
        {
          "output_type": "execute_result",
          "data": {
            "text/html": [
              "<div>\n",
              "<style scoped>\n",
              "    .dataframe tbody tr th:only-of-type {\n",
              "        vertical-align: middle;\n",
              "    }\n",
              "\n",
              "    .dataframe tbody tr th {\n",
              "        vertical-align: top;\n",
              "    }\n",
              "\n",
              "    .dataframe thead th {\n",
              "        text-align: right;\n",
              "    }\n",
              "</style>\n",
              "<table border=\"1\" class=\"dataframe\">\n",
              "  <thead>\n",
              "    <tr style=\"text-align: right;\">\n",
              "      <th></th>\n",
              "      <th>action1</th>\n",
              "      <th>action2</th>\n",
              "      <th>action3</th>\n",
              "      <th>romantic1</th>\n",
              "      <th>romantic2</th>\n",
              "      <th>romantic3</th>\n",
              "    </tr>\n",
              "  </thead>\n",
              "  <tbody>\n",
              "    <tr>\n",
              "      <th>0</th>\n",
              "      <td>2.500000</td>\n",
              "      <td>1.766722</td>\n",
              "      <td>2.034204</td>\n",
              "      <td>-1.998527</td>\n",
              "      <td>-0.063480</td>\n",
              "      <td>-2.285265</td>\n",
              "    </tr>\n",
              "    <tr>\n",
              "      <th>1</th>\n",
              "      <td>0.038088</td>\n",
              "      <td>0.778499</td>\n",
              "      <td>0.569970</td>\n",
              "      <td>-0.222059</td>\n",
              "      <td>-1.500000</td>\n",
              "      <td>-0.590909</td>\n",
              "    </tr>\n",
              "    <tr>\n",
              "      <th>2</th>\n",
              "      <td>1.371159</td>\n",
              "      <td>1.265061</td>\n",
              "      <td>1.203271</td>\n",
              "      <td>-1.085620</td>\n",
              "      <td>-0.590909</td>\n",
              "      <td>-1.500000</td>\n",
              "    </tr>\n",
              "  </tbody>\n",
              "</table>\n",
              "</div>"
            ],
            "text/plain": [
              "    action1   action2   action3  romantic1  romantic2  romantic3\n",
              "0  2.500000  1.766722  2.034204  -1.998527  -0.063480  -2.285265\n",
              "1  0.038088  0.778499  0.569970  -0.222059  -1.500000  -0.590909\n",
              "2  1.371159  1.265061  1.203271  -1.085620  -0.590909  -1.500000"
            ]
          },
          "metadata": {
            "tags": []
          },
          "execution_count": 20
        }
      ]
    },
    {
      "cell_type": "code",
      "metadata": {
        "colab": {
          "base_uri": "https://localhost:8080/"
        },
        "id": "xbzaf2mB83ON",
        "outputId": "f1696176-06b6-4621-dce0-fff07bb414f7"
      },
      "source": [
        "similar_scores.sum().sort_values(ascending=False)"
      ],
      "execution_count": null,
      "outputs": [
        {
          "output_type": "execute_result",
          "data": {
            "text/plain": [
              "action1      3.909247\n",
              "action2      3.810282\n",
              "action3      3.807445\n",
              "romantic2   -2.154389\n",
              "romantic1   -3.306206\n",
              "romantic3   -4.376174\n",
              "dtype: float64"
            ]
          },
          "metadata": {
            "tags": []
          },
          "execution_count": 21
        }
      ]
    },
    {
      "cell_type": "code",
      "metadata": {
        "id": "xR_Ccc1E8-wc"
      },
      "source": [
        ""
      ],
      "execution_count": null,
      "outputs": []
    }
  ]
}